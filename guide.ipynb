{
 "cells": [
  {
   "cell_type": "markdown",
   "id": "383152be-d124-41a2-ad66-2bac30686eb0",
   "metadata": {},
   "source": [
    "# ArtHeart.ai Technical test implementation process\n",
    "\n",
    "David Santiago Fajardo Barrera <br>\n",
    "Senior Machine Learning Engineer\n"
   ]
  },
  {
   "cell_type": "markdown",
   "id": "4d6f5101-06eb-473a-aa3f-6e3c60f60f8c",
   "metadata": {},
   "source": [
    "# 1.  Create a virtual environment to work with\r\n",
    "You can use the virtual env tool that fits you the most, In this case I'm using condaa"
   ]
  },
  {
   "cell_type": "markdown",
   "id": "77ef5e2f-ae36-417f-b8a9-a687500097d2",
   "metadata": {},
   "source": [
    " ```bash\n",
    "  conda create -n ArtHearDemo python=3.8\n",
    "  conda activate ArtHearDemo\n",
    "  ```"
   ]
  },
  {
   "cell_type": "markdown",
   "id": "8b1fdb82-2c41-407f-bfe6-34b94e0628e0",
   "metadata": {},
   "source": [
    "## 1.1 Once you are working in your environment install de requirements.txt"
   ]
  },
  {
   "cell_type": "code",
   "execution_count": null,
   "id": "b9d8ab94-b033-4bc1-8cee-3889aee72bbc",
   "metadata": {},
   "outputs": [],
   "source": [
    "!pip install requirements.txt"
   ]
  },
  {
   "cell_type": "markdown",
   "id": "060b3dc0-3dfd-454a-a326-a43818c59caa",
   "metadata": {},
   "source": [
    "# 2. Clone the SadTalker github repo in your local machine"
   ]
  },
  {
   "cell_type": "code",
   "execution_count": null,
   "id": "d7e892e5-5f52-4833-8e09-cd6e0ce76386",
   "metadata": {},
   "outputs": [],
   "source": [
    "!git clone https://github.com/OpenTalker/SadTalker.git"
   ]
  },
  {
   "cell_type": "markdown",
   "id": "ab1bb573-931c-4e26-a2a3-f57d024808fc",
   "metadata": {},
   "source": [
    "# 3. Set up the SalTaker code base, for this you could follow the installation instruccion posted in the repo's README <br>\n",
    "In order to Simplify the process I also post the instructions in here <br>\n",
    "This steps are simplified in order that you already created a virtual env and you working using it"
   ]
  },
  {
   "cell_type": "markdown",
   "id": "770b2a96-e8a3-4c1a-acf7-fd02fb38a312",
   "metadata": {},
   "source": [
    "### Linux:\n",
    "\n",
    "1. Installing [anaconda](https://www.anaconda.com/), python and git.\n",
    "\n",
    "2. Creating the env and install the requirements.\n",
    "```bash\n",
    "  cd SadTalker\n",
    "\n",
    "  pip install torch==1.12.1+cu113 torchvision==0.13.1+cu113 torchaudio==0.12.1 --extra-index-url https://download.pytorch.org/whl/cu113\n",
    "\n",
    "  conda install ffmpeg\n",
    "\n",
    "  pip install -r requirements.txt\n",
    "\n",
    "  ### tts is optional for gradio demo. \n",
    "  ### pip install TTS\n",
    "```  "
   ]
  },
  {
   "cell_type": "markdown",
   "id": "59f9823c-5889-4eaf-9708-ac1f1423d6f5",
   "metadata": {},
   "source": [
    "### Windows ([中文windows教程](https://www.bilibili.com/video/BV1Dc411W7V6/)):\n",
    "\n",
    "1. Install [Python 3.10.6](https://www.python.org/downloads/windows/), checking \"Add Python to PATH\".\n",
    "2. Install [git](https://git-scm.com/download/win) manually (OR `scoop install git` via [scoop](https://scoop.sh/)).\n",
    "3. Install `ffmpeg`, following [this instruction](https://www.wikihow.com/Install-FFmpeg-on-Windows) (OR using `scoop install ffmpeg` via [scoop](https://scoop.sh/)).\n",
    "4. Download our SadTalker repository, for example by running `git clone https://github.com/Winfredy/SadTalker.git`.\n",
    "5. Download the `checkpoint` and `gfpgan` [below↓](https://github.com/Winfredy/SadTalker#-2-download-trained-models).\n",
    "5. Run `start.bat` from Windows Explorer as normal, non-administrator, user, a gradio WebUI demo will be started.\n"
   ]
  },
  {
   "cell_type": "markdown",
   "id": "23040db7-7a5e-4d97-b85a-b96a8d80b819",
   "metadata": {},
   "source": [
    "### Macbook:\n",
    "\n",
    "More tips about installation  on Macbook and the Docker file can be founded [here](docs/install.md)"
   ]
  },
  {
   "cell_type": "markdown",
   "id": "cfa2a97d-5d9e-4eac-a804-fd1a84c6c83b",
   "metadata": {},
   "source": [
    "# 4. Once you have all the base code setted up you must download the trained Models"
   ]
  },
  {
   "cell_type": "markdown",
   "id": "177b1102-be4c-4bbb-94d4-1cace431fd14",
   "metadata": {},
   "source": [
    "## 📥 Download Trained Models.\n",
    "\n",
    "You can run the following script to put all the models in the right place.\n",
    "\n",
    "```bash\n",
    "bash scripts/download_models.sh\n",
    "```\n",
    "\n",
    "Other alternatives:\n",
    "> we also provide an offline patch (`gfpgan/`), thus, no model will be downloaded when generating.\n",
    "\n",
    "**Google Driver**: download our pre-trained model from [ this link (main checkpoints)](https://drive.google.com/drive/folders/1Wd88VDoLhVzYsQ30_qDVluQr_Xm46yHT?usp=sharing) and [ gfpgan (offline patch)](https://drive.google.com/file/d/19AIBsmfcHW6BRJmeqSFlG5fL445Xmsyi?usp=sharing)\n",
    "\n",
    "**Github Release Page**: download all the files from the [lastest github release page](https://github.com/Winfredy/SadTalker/releases), and then, put it in ./checkpoints.\n",
    "\n",
    "**百度云盘**: we provided the downloaded model in [checkpoints,  提取码: sadt.](https://pan.baidu.com/s/1nXuVNd0exUl37ISwWqbFGA?pwd=sadt) And [gfpgan,  提取码: sadt.](https://pan.baidu.com/s/1kb1BCPaLOWX1JJb9Czbn6w?pwd=sadt)"
   ]
  },
  {
   "cell_type": "markdown",
   "id": "aea32f6e-af58-4677-8165-ef60c5d5b0f6",
   "metadata": {},
   "source": [
    "## 4.1 In case you have some Issues by running the download_models.sh command"
   ]
  },
  {
   "cell_type": "markdown",
   "id": "a942145e-0b69-45bd-a2ab-4f3c27877eb2",
   "metadata": {},
   "source": [
    "```bash\n",
    "bash scripts/download_models.sh\n",
    "```\n",
    "\n",
    "If this commands fails to you due to any reason you can also download the models by hand:\n",
    "1. Go to the releases [page](https://github.com/OpenTalker/SadTalker/releases)\n",
    "2. Look for the assets and download all of them\r\n",
    "3. Create a folder in your SalTalker folder and name it  **checkpoints**\n",
    "4. Paste all yourdownloaded d assets inside the new **checkpoints** folder\n",
    "5. The .zip files should be unzipped in the same folder\n",
    "6. That's it! Now you can use the models and run the demo"
   ]
  },
  {
   "cell_type": "markdown",
   "id": "36bbcd38-2941-412a-b3bd-4a0434e24ea1",
   "metadata": {},
   "source": [
    "# 5. Modify the app.py in the sadtalker repo in order to get an usable endpoint "
   ]
  },
  {
   "cell_type": "markdown",
   "id": "76c6e30d-63e8-4fc8-97d6-8b7b8ed109fd",
   "metadata": {},
   "source": [
    "We will be using the gradio service as an API, to make it possible we need to enable the endpoint, don't be afraid it's quite easy.\n",
    "\n",
    "1. Open the app.py in the gradio root folder using your favorite IDE or text editor\n",
    "2. Go to line 131, here you can see the initialization for the 'on_click' or 'click' behavior that it's used in the submit button, you should look some code like this\r\n",
    "\n",
    "```python\n",
    "submit.click(\n",
    "    fn=sad_talker.test,\n",
    "    inputs=[source_image,\n",
    "            driven_audio,\n",
    "            preprocess_type,\n",
    "            is_still_mode,\n",
    "            enhancer],\n",
    "    outputs=[gen_video]\n",
    "    )\n",
    "```\n",
    "   \n",
    "4. add the ```python api_name=\"predict\"```  to the end of the initialization, after the outputs param (Don't forget the ',' comma), you should end with something like:\r\n",
    "\n",
    "```python\n",
    "submit.click(\n",
    "    fn=sad_talker.test,\n",
    "    inputs=[source_image,\n",
    "            driven_audio,\n",
    "            preprocess_type,\n",
    "            is_still_mode,\n",
    "            enhancer],\n",
    "    outputs=[gen_video],\n",
    "    api_name=\"predict\"\n",
    "    )\n",
    "```"
   ]
  },
  {
   "cell_type": "markdown",
   "id": "150d2298-fec6-427c-9e7e-1cedd957fc41",
   "metadata": {},
   "source": [
    "# 6. Run the app.py inside your sad talker folder"
   ]
  },
  {
   "cell_type": "markdown",
   "id": "9cbcb34c-8def-46a9-a49a-39d3a3f0c92d",
   "metadata": {},
   "source": [
    "```python\n",
    "python app.py\n",
    "```\n",
    "\n",
    "Run this command in a console with your environment activated this will create a new service listening using a gradio api that will be used in the front demo"
   ]
  },
  {
   "cell_type": "markdown",
   "id": "abc86183-2e3b-4496-98d5-0c9bdf9b4994",
   "metadata": {},
   "source": [
    "# 7.Run the app.py in the DemoFront root folder\n",
    "\n",
    "Once you have your gradio service running it's time to use the backend and front end interface to serve the model outputs.\r\n",
    "For this you probably will need a new console with your virtual environment activated\n",
    "```bash\n",
    "  cd DemoFront\n",
    "\n",
    "  python app.py\n",
    "```\n",
    "This will move you just in the DemoFront folder and after that will run a flask service that will be used as interface to serve the model outputs"
   ]
  },
  {
   "cell_type": "markdown",
   "id": "fc55eb26-7d43-46a8-ba91-0e0562e87691",
   "metadata": {},
   "source": [
    "# Three ways of how would you improve this?\n",
    "\n",
    "1. No use the gradio backend API, instead create a full backend to serve the model output: Right now we have two services, one for the front and another one for the back, even the front service has a lot of improvement in terms of architecture it's enough in order to have all running. But having a full backed service that could be fully in charge of the model serving will give us more control about what we can do with the model output and the inputs we will be sended to the model, also can help us to think on the data infrastructure and architecture because right now we are just storing images and audio without any context.t2. have a database: with a database we can store the payloads sended to the model, also more information about users that could be used as a ladder for BI or stronger analysis in how to improve the product. 3. Use hugging face workspace to use the models from there: Right now we are using a model in the local machine, this model uses a gpu in case of having one available or the CPU this is very expensive, we can use a tool like hugging face to check for another models that actually do the same thing less expensive or use the workspace they provide as main computational hub for the inference endpointsce endpoints "
   ]
  },
  {
   "cell_type": "markdown",
   "id": "56ccc830-e4bd-4fe6-ae0a-6739d8c4f99a",
   "metadata": {},
   "source": [
    "# Architecture Diagram"
   ]
  },
  {
   "cell_type": "markdown",
   "id": "0be70251-5dbd-42fa-9f5d-42d55eb9e83c",
   "metadata": {},
   "source": [
    "![K8s Architecture Based](img/architecture.jpg \"Architecture\")"
   ]
  },
  {
   "cell_type": "code",
   "execution_count": null,
   "id": "0021d03d-e312-40c6-b976-2cec8f0df37f",
   "metadata": {},
   "outputs": [],
   "source": []
  }
 ],
 "metadata": {
  "kernelspec": {
   "display_name": "Python 3 (ipykernel)",
   "language": "python",
   "name": "python3"
  },
  "language_info": {
   "codemirror_mode": {
    "name": "ipython",
    "version": 3
   },
   "file_extension": ".py",
   "mimetype": "text/x-python",
   "name": "python",
   "nbconvert_exporter": "python",
   "pygments_lexer": "ipython3",
   "version": "3.10.9"
  }
 },
 "nbformat": 4,
 "nbformat_minor": 5
}
